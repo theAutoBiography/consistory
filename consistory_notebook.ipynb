{
 "cells": [
  {
   "cell_type": "markdown",
   "metadata": {},
   "source": [
    "# Run Consistory Batch"
   ]
  },
  {
   "cell_type": "code",
   "execution_count": 2,
   "metadata": {},
   "outputs": [
    {
     "ename": "ModuleNotFoundError",
     "evalue": "No module named 'torch'",
     "output_type": "error",
     "traceback": [
      "\u001b[31m---------------------------------------------------------------------------\u001b[39m",
      "\u001b[31mModuleNotFoundError\u001b[39m                       Traceback (most recent call last)",
      "\u001b[36mCell\u001b[39m\u001b[36m \u001b[39m\u001b[32mIn[2]\u001b[39m\u001b[32m, line 6\u001b[39m\n\u001b[32m      1\u001b[39m \u001b[38;5;66;03m# Copyright (C) 2024 NVIDIA Corporation.  All rights reserved.\u001b[39;00m\n\u001b[32m      2\u001b[39m \u001b[38;5;66;03m#\u001b[39;00m\n\u001b[32m      3\u001b[39m \u001b[38;5;66;03m# This work is licensed under the LICENSE file\u001b[39;00m\n\u001b[32m      4\u001b[39m \u001b[38;5;66;03m# located at the root directory.\u001b[39;00m\n\u001b[32m----> \u001b[39m\u001b[32m6\u001b[39m \u001b[38;5;28;01mimport\u001b[39;00m\u001b[38;5;250m \u001b[39m\u001b[34;01mtorch\u001b[39;00m\n\u001b[32m      7\u001b[39m \u001b[38;5;28;01mimport\u001b[39;00m\u001b[38;5;250m \u001b[39m\u001b[34;01mgc\u001b[39;00m\n\u001b[32m      8\u001b[39m \u001b[38;5;28;01mfrom\u001b[39;00m\u001b[38;5;250m \u001b[39m\u001b[34;01mconsistory_run\u001b[39;00m\u001b[38;5;250m \u001b[39m\u001b[38;5;28;01mimport\u001b[39;00m load_pipeline, run_batch_generation\n",
      "\u001b[31mModuleNotFoundError\u001b[39m: No module named 'torch'"
     ]
    }
   ],
   "source": [
    "# Copyright (C) 2024 NVIDIA Corporation.  All rights reserved.\n",
    "#\n",
    "# This work is licensed under the LICENSE file\n",
    "# located at the root directory.\n",
    "\n",
    "import torch\n",
    "import gc\n",
    "from consistory_run import load_pipeline, run_batch_generation\n",
    "\n",
    "gpu = 0\n",
    "story_pipeline = load_pipeline(gpu)\n",
    "\n",
    "style = \"A photo of \"\n",
    "subject = \"a cute dog\"\n",
    "concept_token = ['dog']\n",
    "settings = [\"sitting in the beach\",\n",
    "            \"standing in the snow\",\n",
    "            \"playing in the park\"]\n",
    "\n",
    "seed = 40\n",
    "mask_dropout = 0.5\n",
    "same_latent = False\n",
    "n_achors = 2\n",
    "\n",
    "prompts = [f'{style}{subject} {setting}' for setting in settings]\n",
    "\n",
    "# Reset the GPU memory tracking\n",
    "torch.cuda.reset_max_memory_allocated(gpu)\n",
    "\n",
    "images, image_all = run_batch_generation(story_pipeline, prompts, concept_token, seed, mask_dropout=mask_dropout, same_latent=same_latent, n_achors = 2)\n",
    "display(image_all)\n",
    "\n",
    "# Report maximum GPU memory usage in GB\n",
    "max_memory_used = torch.cuda.max_memory_allocated(gpu) / (1024**3)  # Convert to GB\n",
    "print(f\"Maximum GPU memory used: {max_memory_used:.2f} GB\")"
   ]
  },
  {
   "cell_type": "markdown",
   "metadata": {},
   "source": [
    "# Run Consistory w/ Cached Anchors"
   ]
  },
  {
   "cell_type": "code",
   "execution_count": null,
   "metadata": {},
   "outputs": [],
   "source": [
    "import torch\n",
    "import gc\n",
    "from consistory_run import load_pipeline, run_anchor_generation, run_extra_generation\n",
    "\n",
    "gpu = 0\n",
    "story_pipeline = load_pipeline(gpu)\n",
    "\n",
    "style = \"A photo of \"\n",
    "subject = \"a cute dog\"\n",
    "concept_token = ['dog']\n",
    "anchor_settings = [\"sitting in the beach\", \"standing in the snow\"]\n",
    "extra_settings = [\"playing in the park\", \"surfing in the ocean\"]\n",
    "\n",
    "seed = 40\n",
    "mask_dropout = 0.5\n",
    "same_latent = False\n",
    "\n",
    "anchor_prompts = [f'{style}{subject} {setting}' for setting in anchor_settings]\n",
    "extra_prompts = [f'{style}{subject} {setting}' for setting in extra_settings]\n",
    "\n",
    "# Reset the GPU memory tracking\n",
    "torch.cuda.reset_max_memory_allocated(gpu)\n",
    "\n",
    "anchor_out_images, anchor_image_all, anchor_cache_first_stage, anchor_cache_second_stage = run_anchor_generation(story_pipeline, anchor_prompts, concept_token, \n",
    "                                                                                                       seed=seed, mask_dropout=mask_dropout, same_latent=same_latent,\n",
    "                                                                                                       cache_cpu_offloading=True)\n",
    "\n",
    "print('Anchor images:')\n",
    "display(anchor_image_all)\n",
    "\n",
    "for extra_prompt in extra_prompts:\n",
    "    extra_out_images, extra_image_all = run_extra_generation(story_pipeline, [extra_prompt], concept_token, anchor_cache_first_stage, anchor_cache_second_stage, \n",
    "                                                seed=seed, mask_dropout=mask_dropout, same_latent=same_latent, cache_cpu_offloading=True)\n",
    "    \n",
    "    print(f'Extra prompt: {extra_prompt}')\n",
    "    display(extra_image_all)\n",
    "\n",
    "# Report maximum GPU memory usage in GB\n",
    "max_memory_used = torch.cuda.max_memory_allocated(gpu) / (1024**3)  # Convert to GB\n",
    "print(f\"Maximum GPU memory used: {max_memory_used:.2f} GB\")"
   ]
  }
 ],
 "metadata": {
  "kernelspec": {
   "display_name": "3.11.6",
   "language": "python",
   "name": "python3"
  },
  "language_info": {
   "codemirror_mode": {
    "name": "ipython",
    "version": 3
   },
   "file_extension": ".py",
   "mimetype": "text/x-python",
   "name": "python",
   "nbconvert_exporter": "python",
   "pygments_lexer": "ipython3",
   "version": "3.11.6"
  }
 },
 "nbformat": 4,
 "nbformat_minor": 2
}
